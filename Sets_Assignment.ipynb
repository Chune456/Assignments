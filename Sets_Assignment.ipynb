{
 "cells": [
  {
   "cell_type": "markdown",
   "id": "32f55f9d",
   "metadata": {},
   "source": [
    "## Sets operations"
   ]
  },
  {
   "cell_type": "code",
   "execution_count": 11,
   "id": "79830ee5",
   "metadata": {},
   "outputs": [],
   "source": [
    "list_Ω= [1,2,3,4,5,6,7,8,9,10,11,12] #universal set\n",
    "list_a=[2,4,6,8]\n",
    "list_b= [3,8,11,12]\n",
    "list_c= [2,3,6,8,9,11]\n",
    "\n",
    "Ω= set(list_Ω)\n",
    "a= set(list_a)\n",
    "b= set(list_b)\n",
    "c= set(list_c)"
   ]
  },
  {
   "cell_type": "code",
   "execution_count": null,
   "id": "b15cf191",
   "metadata": {},
   "outputs": [
    {
     "name": "stdout",
     "output_type": "stream",
     "text": [
      "a intersect b is {8}\n",
      "a intersect b using & is {8}\n"
     ]
    }
   ],
   "source": [
    "#$ A \\cap B$ interpreted as a intersect b- elements common in both sets\n",
    "\n",
    "#using intersect()\n",
    "a_intersect_b= a.intersection(b)\n",
    "print(\"a intersect b is\", a_intersect_b)\n",
    "\n",
    "#using &\n",
    "a_intersect_b2= a&b\n",
    "print(\"a intersect b using & is\", a_intersect_b2)"
   ]
  },
  {
   "cell_type": "code",
   "execution_count": null,
   "id": "1ddae9b7",
   "metadata": {},
   "outputs": [
    {
     "name": "stdout",
     "output_type": "stream",
     "text": [
      "a union c is: {2, 3, 4, 6, 8, 9, 11}\n"
     ]
    }
   ],
   "source": [
    "#$ A \\cup C$ interpreted as a union c-all elements in a and c\n",
    "a_union_c= a|c #or a.union(c)\n",
    "print(\"a union c is:\", a_union_c)\n"
   ]
  },
  {
   "cell_type": "code",
   "execution_count": 17,
   "id": "858b94ce",
   "metadata": {},
   "outputs": [
    {
     "name": "stdout",
     "output_type": "stream",
     "text": [
      "Absolute complement of a: {1, 3, 5, 7, 9, 10, 11, 12}\n"
     ]
    }
   ],
   "source": [
    "#a^c, absolute complement of a- Elements in universal set but not in a\n",
    "a_complement= Ω-a #or Ω.difference(a)\n",
    "print(\"Absolute complement of a:\", a_complement)\n"
   ]
  },
  {
   "cell_type": "code",
   "execution_count": 18,
   "id": "b6db3855",
   "metadata": {},
   "outputs": [
    {
     "name": "stdout",
     "output_type": "stream",
     "text": [
      "Absolute complement of b: {1, 2, 4, 5, 6, 7, 9, 10}\n"
     ]
    }
   ],
   "source": [
    "#b^c, absolute complement of c- Elements in universal set but not in b\n",
    "b_complement= Ω.difference(b)\n",
    "print(\"Absolute complement of b:\", b_complement)  "
   ]
  },
  {
   "cell_type": "code",
   "execution_count": 20,
   "id": "fb41f9aa",
   "metadata": {},
   "outputs": [
    {
     "name": "stdout",
     "output_type": "stream",
     "text": [
      "Complement of a union b is: {1, 5, 7, 9, 10}\n"
     ]
    }
   ],
   "source": [
    "#complement of (a union b)- elements in universal but neither in a nor b\n",
    "a_union_b= a|b\n",
    "complement_of_a_union_b= Ω-a_union_b\n",
    "print(\"Complement of a union b is:\", complement_of_a_union_b)"
   ]
  },
  {
   "cell_type": "code",
   "execution_count": 22,
   "id": "ce857efd",
   "metadata": {},
   "outputs": [
    {
     "name": "stdout",
     "output_type": "stream",
     "text": [
      "intersect complement of c: {12}\n"
     ]
    }
   ],
   "source": [
    "#b intersect complement of c- intersect of elements in b with those that are not in c\n",
    "complement_c= Ω-c\n",
    "b_intersect_complementc= b& complement_c\n",
    "\n",
    "print(\"intersect complement of c:\", b_intersect_complementc )"
   ]
  },
  {
   "cell_type": "code",
   "execution_count": 23,
   "id": "c035e064",
   "metadata": {},
   "outputs": [
    {
     "name": "stdout",
     "output_type": "stream",
     "text": [
      "a minus b: {2, 4, 6}\n"
     ]
    }
   ],
   "source": [
    "#a\\b- a minus b- elements in a not in b\n",
    "a_minus_b= a-b\n",
    "print(\"a minus b:\", a_minus_b)"
   ]
  },
  {
   "cell_type": "code",
   "execution_count": 24,
   "id": "ae51828d",
   "metadata": {},
   "outputs": [
    {
     "name": "stdout",
     "output_type": "stream",
     "text": [
      "c minus(b minus a): {8, 9, 2, 6}\n"
     ]
    }
   ],
   "source": [
    "#c minus (b minus a)\n",
    "b_minus_a= b-a\n",
    "c_minus_b_minus_a= c- b_minus_a\n",
    "print(\"c minus(b minus a):\", c_minus_b_minus_a)"
   ]
  },
  {
   "cell_type": "markdown",
   "id": "d5aaa70c",
   "metadata": {},
   "source": [
    "## Inclusion Exclusion Principle"
   ]
  },
  {
   "cell_type": "code",
   "execution_count": 29,
   "id": "99098554",
   "metadata": {},
   "outputs": [
    {
     "name": "stdout",
     "output_type": "stream",
     "text": [
      "Left side: 8\n",
      "Right side: 8\n",
      "Both sides are equal: True\n"
     ]
    }
   ],
   "source": [
    "\n",
    "# |AuBuC|=|A| + |B| + |C| - |A∩B| - |A∩C| - |B∩C| + |A∩B∩C|\n",
    "left_side= len(a|b|c)\n",
    "print(\"Left side:\", left_side)\n",
    "\n",
    "right_side= (len(a)+ len(b)+ len(c))- (len(a&b))- (len(a&c))- (len(b&c))+(len(a&b&c))\n",
    "print(\"Right side:\", right_side)\n",
    "\n",
    "print(\"Both sides are equal:\", left_side== right_side)"
   ]
  },
  {
   "cell_type": "markdown",
   "id": "9a8aa347",
   "metadata": {},
   "source": [
    "## Set operations\n"
   ]
  },
  {
   "cell_type": "code",
   "execution_count": 31,
   "id": "5a0c53a9",
   "metadata": {},
   "outputs": [],
   "source": [
    "\n",
    "\n",
    "nina = set([\"Cat\",\"Dog\",\"Rabbit\",\"Donkey\",\"Parrot\", \"Goldfish\"])\n",
    "mary = set([\"Dog\",\"Chinchilla\",\"Horse\", \"Chicken\"])\n",
    "eve = set([\"Rabbit\", \"Turtle\", \"Goldfish\"])"
   ]
  },
  {
   "cell_type": "code",
   "execution_count": 37,
   "id": "84a158eb",
   "metadata": {},
   "outputs": [
    {
     "name": "stdout",
     "output_type": "stream",
     "text": [
      "{'Goldfish', 'Rabbit'}\n"
     ]
    }
   ],
   "source": [
    "#Eve's turtle passed away\n",
    "eve= set([ \"Rabbit\", \"Turtle\", \"Goldfish\"])\n",
    "eve.remove(\"Turtle\")\n",
    "print(eve)"
   ]
  },
  {
   "cell_type": "code",
   "execution_count": 48,
   "id": "c16a2b94",
   "metadata": {},
   "outputs": [
    {
     "name": "stdout",
     "output_type": "stream",
     "text": [
      "{'Donkey', 'Horse', 'Chinchilla', 'Dog', 'Chicken', 'Rabbit', 'Parrot', 'Goldfish', 'Cat'}\n"
     ]
    }
   ],
   "source": [
    "#Nina and Mary\n",
    "nina = set([\"Cat\",\"Dog\",\"Rabbit\",\"Donkey\",\"Parrot\", \"Goldfish\"])\n",
    "mary = set([\"Dog\",\"Chinchilla\",\"Horse\", \"Chicken\"])\n",
    "nina|= mary\n",
    "print(nina)"
   ]
  },
  {
   "cell_type": "code",
   "execution_count": 49,
   "id": "adfefbff",
   "metadata": {},
   "outputs": [
    {
     "name": "stdout",
     "output_type": "stream",
     "text": [
      "set()\n"
     ]
    }
   ],
   "source": [
    "#mary clears her pets\n",
    "mary.clear()\n",
    "print(mary)"
   ]
  },
  {
   "cell_type": "code",
   "execution_count": null,
   "id": "ff5057dc",
   "metadata": {},
   "outputs": [
    {
     "data": {
      "text/plain": [
       "9"
      ]
     },
     "execution_count": 51,
     "metadata": {},
     "output_type": "execute_result"
    }
   ],
   "source": [
    "#animals under nina now\n",
    "len(nina)"
   ]
  },
  {
   "cell_type": "code",
   "execution_count": 57,
   "id": "46c98cc7",
   "metadata": {},
   "outputs": [
    {
     "name": "stdout",
     "output_type": "stream",
     "text": [
      "Common Pets: {'Goldfish', 'Rabbit'}\n",
      "Nina's new pets: {'Donkey', 'Horse', 'Chinchilla', 'Dog', 'Chicken', 'Parrot', 'Cat'}\n",
      "Pets currently under Nina: 7\n"
     ]
    }
   ],
   "source": [
    "#nina gives eve common pets that they both have.\n",
    "common_pets= nina&eve\n",
    "print(\"Common Pets:\", common_pets)\n",
    "nina_new= ((nina|eve)- (nina&eve))\n",
    "print(\"Nina's new pets:\", nina_new)\n",
    "print(\"Pets currently under Nina:\", len(nina_new))"
   ]
  }
 ],
 "metadata": {
  "kernelspec": {
   "display_name": "base",
   "language": "python",
   "name": "python3"
  },
  "language_info": {
   "codemirror_mode": {
    "name": "ipython",
    "version": 3
   },
   "file_extension": ".py",
   "mimetype": "text/x-python",
   "name": "python",
   "nbconvert_exporter": "python",
   "pygments_lexer": "ipython3",
   "version": "3.12.7"
  }
 },
 "nbformat": 4,
 "nbformat_minor": 5
}
